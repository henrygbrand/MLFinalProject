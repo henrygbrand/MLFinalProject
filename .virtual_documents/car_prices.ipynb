import pandas as pd
import numpy as np
import matplotlib.pyplot as plt
from sklearn.linear_model import LinearRegression
from sklearn.model_selection import train_test_split
from sklearn.metrics import mean_squared_error, r2_score


df = pd.read_csv('train.csv')
df.head()  # View the first few rows
df.info()  # Get information about columns and data types



plt.figure(figsize=(10, 6))
plt.scatter(df['Year'], df['Price'])
plt.xlabel('Year')
plt.ylabel('Price')
plt.title('Car Year vs Price')
plt.show()

